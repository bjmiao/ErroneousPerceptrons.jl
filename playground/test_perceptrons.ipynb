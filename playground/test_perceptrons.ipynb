{
 "cells": [
  {
   "cell_type": "code",
   "execution_count": null,
   "metadata": {},
   "outputs": [],
   "source": [
    "using QuadGK\n",
    "using Plots\n",
    "# plot()\n",
    "κ_list = []\n",
    "theoretical_capacity_list = []\n",
    "theoretical_capacity_map = Dict()\n",
    "for κ in 0:0.1:2\n",
    "    f(t) = 1 / (2π) ^ 0.5 * exp(-t^2 / 2) * (t + κ) ^ 2\n",
    "    result, error = quadgk(f, -κ, Inf)\n",
    "    theoretical_capacity = 1 / result\n",
    "    theoretical_capacity_map[κ] = theoretical_capacity\n",
    "    println(κ, \" \", theoretical_capacity)\n",
    "    push!(κ_list, κ)\n",
    "    push!(theoretical_capacity_list, theoretical_capacity)\n",
    "end\n",
    "scatter(κ_list, theoretical_capacity_list)\n",
    "xlabel!(\"κ\")\n",
    "ylabel!(\"Capacity\")\n",
    "title!(\"Theoretical Capacity\")\n",
    "# current()"
   ]
  },
  {
   "cell_type": "markdown",
   "metadata": {},
   "source": [
    "# Parse the result"
   ]
  },
  {
   "cell_type": "code",
   "execution_count": null,
   "metadata": {},
   "outputs": [],
   "source": [
    "using Base;\n",
    "using Statistics;\n",
    "using DataFrames;\n",
    "using Plots;\n",
    "using StatsPlots;\n",
    "using Random;\n",
    "using StatsBase;"
   ]
  },
  {
   "cell_type": "code",
   "execution_count": null,
   "metadata": {},
   "outputs": [],
   "source": [
    "function get_success_rate(all_accuracy_mat)\n",
    "\tsum(all_accuracy_mat[:, end] .> 0.999) / size(all_accuracy_mat, 1)\n",
    "end\n",
    "\n",
    "# ╔═╡ 712eae8c-1745-4b0b-8989-7ea460e1133f\n",
    "function get_learning_epochs(all_accuracy_mat)\n",
    "\tall_index = []\n",
    "\tfor i in 1:size(all_accuracy_mat, 2)\n",
    "\t\tif (all_accuracy_mat[end, i] < 0.999)\n",
    "\t\t\tindex = -1\n",
    "\t\telse\n",
    "\t\t\tindex = findfirst(x -> x > 0.999, all_accuracy_mat[:, i])\n",
    "\t\tend\n",
    "\t\tpush!(all_index, index)\n",
    "\tend\n",
    "\treturn all_index\n",
    "end\n",
    "function get_error(all_accuracy_mat)\n",
    "\t1 - mean(all_accuracy_mat[:, end]), std(all_accuracy_mat[:, end])\n",
    "end\n"
   ]
  },
  {
   "cell_type": "code",
   "execution_count": null,
   "metadata": {
    "scrolled": true
   },
   "outputs": [],
   "source": [
    "using JLD;\n",
    "all_records = []\n",
    "for kappa in [0.0, 0.1, 0.2, 0.3, 0.5]\n",
    "    dir_path = \"../data/kappa_$kappa\"\n",
    "    # List all the files in the directory\n",
    "    files = readdir(dir_path)\n",
    "    for file in files\n",
    "        words = split(file, ['_', '.'])\n",
    "        # println(words[end - 2], \" \", words[end-1])\n",
    "        num_patterns = parse(Int, words[end-2])\n",
    "        num_neurons = parse(Int, words[end-1])\n",
    "        if num_neurons != 1000\n",
    "            continue\n",
    "        end\n",
    "        println(kappa, \" \", num_patterns, \" \", num_neurons)\n",
    "        mat = load(\"$dir_path/$file\")[\"data\"].parent\n",
    "        success_rate = get_success_rate(mat)\n",
    "        mean_err, std_err = get_error(mat)\n",
    "        learning_epochs = get_learning_epochs(mat)\n",
    "        if length(learning_epochs[learning_epochs .> 0]) == 0\n",
    "            mean_step, std_step = -1, 0\n",
    "        else\n",
    "            mean_step, std_step = mean(learning_epochs[learning_epochs .> 0.]), std(learning_epochs[learning_epochs .> 0.])\n",
    "        end\n",
    "        record = Dict(\n",
    "            \"kappa\" => kappa,\n",
    "            \"num_patterns\" => num_patterns,\n",
    "            \"num_neurons\" => num_neurons,\n",
    "            \"success_rate\" => success_rate,\n",
    "            \"mean_err\" => mean_err,\n",
    "            \"std_err\" => std_err,\n",
    "            \"mean_step\" => mean_step,\n",
    "            \"std_step\" => std_step,\n",
    "        )\n",
    "        push!(all_records, record)\n",
    "    end\n",
    "end"
   ]
  },
  {
   "cell_type": "code",
   "execution_count": null,
   "metadata": {},
   "outputs": [],
   "source": [
    "df = DataFrame(all_records)\n",
    "sort!(df, :num_patterns, rev=false)\n",
    "sort!(df, :kappa, rev=false)\n",
    "df"
   ]
  },
  {
   "cell_type": "code",
   "execution_count": null,
   "metadata": {},
   "outputs": [],
   "source": [
    "# Group the DataFrame by 'kappa'\n",
    "grouped_df = groupby(df, :kappa)\n",
    "# Create a separate subgraph for each group\n",
    "plots = []\n",
    "p = plot(layout = (length(grouped_df), 1), legend = false)\n",
    "for (i, group) in enumerate(grouped_df)\n",
    "    kappa = group.kappa[1]\n",
    "    num_patterns = group.num_patterns ./ group.num_neurons\n",
    "    mean_err = group.mean_err\n",
    "    std_err = group.std_err\n",
    "    plotnow = plot(num_patterns, mean_err, yerror = std_err, marker = :circle, title = \"kappa = $kappa\", xlabel = \"p/N\", ylabel = \"Mean Error\", label=\"Mean\")\n",
    "    vline!([theoretical_capacity_map[kappa]], line = :dash, color = :red, label = \"Capacity\")\n",
    "\n",
    "    push!(plots, plotnow)\n",
    "end\n",
    "plot(plots...)"
   ]
  },
  {
   "cell_type": "markdown",
   "metadata": {},
   "source": [
    "### Test whether float and binary label makes a difference"
   ]
  },
  {
   "cell_type": "code",
   "execution_count": null,
   "metadata": {},
   "outputs": [],
   "source": [
    "include(\"../src/perceptrons.jl\")\n"
   ]
  },
  {
   "cell_type": "code",
   "execution_count": null,
   "metadata": {},
   "outputs": [],
   "source": [
    "# Example usage\n",
    "n_samples = 80\n",
    "n_features = 50\n",
    "kappa_hack = 0.1\n",
    "lr_hack = 0.002\n",
    "max_epochs = 2000\n",
    "\n",
    "p_binary = plot()\n",
    "X, y = generate_linearly_separable_data(n_samples, n_features, \"b-b\")\n",
    "X_binary, y_binary = X, y\n",
    "perceptron_hack = init_perceptron(n_features)  # Perceptron with n input features\n",
    "for epochs in 1:max_epochs\n",
    "    acc = train_perceptron(perceptron_hack, X, y, epochs=1, kappa = kappa_hack, learning_rate=lr_hack)\n",
    "    scatter!(repeat([epochs], n_samples), get_margin(perceptron_hack, X, y), color=\"black\", markersize=1, label = \"\")\n",
    "end\n",
    "xlabel!(\"#Epoch\")\n",
    "ylabel!(\"Margin\")\n",
    "hline!([kappa_hack],  line=:dash, color=:red, linewidth=2, label=\"\")\n",
    "title!(\"Binary Label\")\n",
    "\n",
    "p_float = plot()\n",
    "X, y = generate_linearly_separable_data(n_samples, n_features, \"f-b\")\n",
    "X_float, y_float = X, y\n",
    "perceptron_hack = init_perceptron(n_features)  # Perceptron with n input features\n",
    "for epochs in 1:max_epochs\n",
    "    acc = train_perceptron(perceptron_hack, X, y, epochs=1, kappa = kappa_hack, learning_rate=lr_hack)\n",
    "    scatter!(repeat([epochs], n_samples), get_margin(perceptron_hack, X, y), color=\"black\", markersize=1, label = \"\")\n",
    "end\n",
    "xlabel!(\"#Epoch\")\n",
    "ylabel!(\"Margin\")\n",
    "hline!([kappa_hack],  line=:dash, color=:red, linewidth=2, label=\"\")\n",
    "title!(\"Float Label\")\n",
    "\n",
    "plot(p_binary, p_float, layout=(1, 2))"
   ]
  },
  {
   "cell_type": "code",
   "execution_count": null,
   "metadata": {},
   "outputs": [],
   "source": [
    "cor_matrix = cor(X_binary)\n"
   ]
  }
 ],
 "metadata": {
  "kernelspec": {
   "display_name": "Julia 1.10.0",
   "language": "julia",
   "name": "julia-1.10"
  },
  "language_info": {
   "file_extension": ".jl",
   "mimetype": "application/julia",
   "name": "julia",
   "version": "1.10.0"
  }
 },
 "nbformat": 4,
 "nbformat_minor": 2
}
